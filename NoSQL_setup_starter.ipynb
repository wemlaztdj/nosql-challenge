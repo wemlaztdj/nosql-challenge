{
 "cells": [
  {
   "cell_type": "markdown",
   "id": "9a57c4c6",
   "metadata": {},
   "source": [
    "# Eat Safe, Love"
   ]
  },
  {
   "cell_type": "markdown",
   "id": "064ef857",
   "metadata": {},
   "source": [
    "## Part 1: Database and Jupyter Notebook Set Up"
   ]
  },
  {
   "cell_type": "markdown",
   "id": "664e3c1f",
   "metadata": {},
   "source": [
    "Import the data provided in the `establishments.json` file from your Terminal. Name the database `uk_food` and the collection `establishments`.\n",
    "\n",
    "Within this markdown cell, copy the line of text you used to import the data from your Terminal. This way, future analysts will be able to repeat your process.\n",
    "\n",
    "e.g.: Import the dataset with `YOUR IMPORT TEXT HERE`"
   ]
  },
  {
   "cell_type": "code",
   "execution_count": 1,
   "id": "3ecdd008",
   "metadata": {},
   "outputs": [],
   "source": [
    "# Import dependencies\n",
    "from pymongo import MongoClient\n",
    "from pprint import pprint"
   ]
  },
  {
   "cell_type": "code",
   "execution_count": 2,
   "id": "59390c4a",
   "metadata": {},
   "outputs": [],
   "source": [
    "# Create an instance of MongoClient\n",
    "mongo = MongoClient(port=27017)"
   ]
  },
  {
   "cell_type": "code",
   "execution_count": 3,
   "id": "7f9ececa",
   "metadata": {},
   "outputs": [
    {
     "name": "stdout",
     "output_type": "stream",
     "text": [
      "['admin', 'classDB', 'config', 'epa', 'fruits_db', 'gardenDB', 'local', 'petsitly_marketing', 'travel_db', 'uk_food']\n"
     ]
    }
   ],
   "source": [
    "# confirm that our new database was created\n",
    "print(mongo.list_database_names())"
   ]
  },
  {
   "cell_type": "code",
   "execution_count": 4,
   "id": "71e373c1",
   "metadata": {},
   "outputs": [],
   "source": [
    "# assign the uk_food database to a variable name\n",
    "db = mongo['uk_food']"
   ]
  },
  {
   "cell_type": "code",
   "execution_count": 5,
   "id": "ef1b89ed",
   "metadata": {},
   "outputs": [
    {
     "name": "stdout",
     "output_type": "stream",
     "text": [
      "['establishments']\n"
     ]
    }
   ],
   "source": [
    "# review the collections in our new database\n",
    "print(db.list_collection_names())"
   ]
  },
  {
   "cell_type": "code",
   "execution_count": 7,
   "id": "6a0d92df",
   "metadata": {},
   "outputs": [
    {
     "name": "stdout",
     "output_type": "stream",
     "text": [
      "[{'AddressLine1': 'The Pines Garden',\n",
      "  'AddressLine2': 'Beach Road',\n",
      "  'AddressLine3': 'St Margarets Bay',\n",
      "  'AddressLine4': 'Kent',\n",
      "  'BusinessName': 'The Pines Calyx',\n",
      "  'BusinessType': 'Other catering premises',\n",
      "  'BusinessTypeID': 7841,\n",
      "  'ChangesByServerID': 0,\n",
      "  'Distance': 4587.362402580997,\n",
      "  'FHRSID': 254250,\n",
      "  'LocalAuthorityBusinessID': 'PI/000066174',\n",
      "  'LocalAuthorityCode': '182',\n",
      "  'LocalAuthorityEmailAddress': 'publicprotection@dover.gov.uk',\n",
      "  'LocalAuthorityName': 'Dover',\n",
      "  'LocalAuthorityWebSite': 'http://www.dover.gov.uk/',\n",
      "  'NewRatingPending': False,\n",
      "  'Phone': '',\n",
      "  'PostCode': 'CT15 6DZ',\n",
      "  'RatingDate': '2021-08-17T00:00:00',\n",
      "  'RatingKey': 'fhrs_5_en-gb',\n",
      "  'RatingValue': '5',\n",
      "  'RightToReply': '',\n",
      "  'SchemeType': 'FHRS',\n",
      "  '_id': ObjectId('650750c4ea27f5347d9fbef0'),\n",
      "  'geocode': {'latitude': '51.148133', 'longitude': '1.383298'},\n",
      "  'links': [{'href': 'https://api.ratings.food.gov.uk/establishments/254250',\n",
      "             'rel': 'self'}],\n",
      "  'meta': {'dataSource': None,\n",
      "           'extractDate': '0001-01-01T00:00:00',\n",
      "           'itemCount': 0,\n",
      "           'pageNumber': 0,\n",
      "           'pageSize': 0,\n",
      "           'returncode': None,\n",
      "           'totalCount': 0,\n",
      "           'totalPages': 0},\n",
      "  'scores': {'ConfidenceInManagement': 0, 'Hygiene': 0, 'Structural': 0}},\n",
      " {'AddressLine1': 'High Street',\n",
      "  'AddressLine2': 'St Margarets At Cliffe',\n",
      "  'AddressLine3': 'Kent',\n",
      "  'AddressLine4': '',\n",
      "  'BusinessName': 'The Smugglers',\n",
      "  'BusinessType': 'Pub/bar/nightclub',\n",
      "  'BusinessTypeID': 7843,\n",
      "  'ChangesByServerID': 0,\n",
      "  'Distance': 4588.011450047919,\n",
      "  'FHRSID': 254731,\n",
      "  'LocalAuthorityBusinessID': 'PI/000043588',\n",
      "  'LocalAuthorityCode': '182',\n",
      "  'LocalAuthorityEmailAddress': 'publicprotection@dover.gov.uk',\n",
      "  'LocalAuthorityName': 'Dover',\n",
      "  'LocalAuthorityWebSite': 'http://www.dover.gov.uk/',\n",
      "  'NewRatingPending': False,\n",
      "  'Phone': '',\n",
      "  'PostCode': 'CT15 6AU',\n",
      "  'RatingDate': '2022-08-17T00:00:00',\n",
      "  'RatingKey': 'fhrs_5_en-gb',\n",
      "  'RatingValue': '5',\n",
      "  'RightToReply': '',\n",
      "  'SchemeType': 'FHRS',\n",
      "  '_id': ObjectId('650750c4ea27f5347d9fbef1'),\n",
      "  'geocode': {'latitude': '51.154023', 'longitude': '1.371543'},\n",
      "  'links': [{'href': 'https://api.ratings.food.gov.uk/establishments/254731',\n",
      "             'rel': 'self'}],\n",
      "  'meta': {'dataSource': None,\n",
      "           'extractDate': '0001-01-01T00:00:00',\n",
      "           'itemCount': 0,\n",
      "           'pageNumber': 0,\n",
      "           'pageSize': 0,\n",
      "           'returncode': None,\n",
      "           'totalCount': 0,\n",
      "           'totalPages': 0},\n",
      "  'scores': {'ConfidenceInManagement': 5, 'Hygiene': 5, 'Structural': 5}},\n",
      " {'AddressLine1': 'The Bay',\n",
      "  'AddressLine2': 'St Margarets Bay',\n",
      "  'AddressLine3': 'Kent',\n",
      "  'AddressLine4': '',\n",
      "  'BusinessName': 'The Coastguard Inn',\n",
      "  'BusinessType': 'Pub/bar/nightclub',\n",
      "  'BusinessTypeID': 7843,\n",
      "  'ChangesByServerID': 0,\n",
      "  'Distance': 4587.347174863443,\n",
      "  'FHRSID': 1034540,\n",
      "  'LocalAuthorityBusinessID': 'PI/000078691',\n",
      "  'LocalAuthorityCode': '182',\n",
      "  'LocalAuthorityEmailAddress': 'publicprotection@dover.gov.uk',\n",
      "  'LocalAuthorityName': 'Dover',\n",
      "  'LocalAuthorityWebSite': 'http://www.dover.gov.uk/',\n",
      "  'NewRatingPending': False,\n",
      "  'Phone': '',\n",
      "  'PostCode': 'CT15 6DY',\n",
      "  'RatingDate': '2022-08-17T00:00:00',\n",
      "  'RatingKey': 'fhrs_5_en-gb',\n",
      "  'RatingValue': '5',\n",
      "  'RightToReply': '',\n",
      "  'SchemeType': 'FHRS',\n",
      "  '_id': ObjectId('650750c4ea27f5347d9fbef2'),\n",
      "  'geocode': {'latitude': '51.152225', 'longitude': '1.387974'},\n",
      "  'links': [{'href': 'https://api.ratings.food.gov.uk/establishments/1034540',\n",
      "             'rel': 'self'}],\n",
      "  'meta': {'dataSource': None,\n",
      "           'extractDate': '0001-01-01T00:00:00',\n",
      "           'itemCount': 0,\n",
      "           'pageNumber': 0,\n",
      "           'pageSize': 0,\n",
      "           'returncode': None,\n",
      "           'totalCount': 0,\n",
      "           'totalPages': 0},\n",
      "  'scores': {'ConfidenceInManagement': 0, 'Hygiene': 0, 'Structural': 5}},\n",
      " {'AddressLine1': 'Kingsdown Park Holiday Village',\n",
      "  'AddressLine2': 'Upper Street',\n",
      "  'AddressLine3': 'Kingsdown',\n",
      "  'AddressLine4': 'Kent',\n",
      "  'BusinessName': 'The Lounge Bar',\n",
      "  'BusinessType': 'Restaurant/Cafe/Canteen',\n",
      "  'BusinessTypeID': 1,\n",
      "  'ChangesByServerID': 0,\n",
      "  'Distance': 4588.0687557014535,\n",
      "  'FHRSID': 760657,\n",
      "  'LocalAuthorityBusinessID': 'PI/000074489',\n",
      "  'LocalAuthorityCode': '182',\n",
      "  'LocalAuthorityEmailAddress': 'publicprotection@dover.gov.uk',\n",
      "  'LocalAuthorityName': 'Dover',\n",
      "  'LocalAuthorityWebSite': 'http://www.dover.gov.uk/',\n",
      "  'NewRatingPending': False,\n",
      "  'Phone': '',\n",
      "  'PostCode': 'CT14 8EU',\n",
      "  'RatingDate': '2017-08-11T00:00:00',\n",
      "  'RatingKey': 'fhrs_4_en-gb',\n",
      "  'RatingValue': '4',\n",
      "  'RightToReply': '',\n",
      "  'SchemeType': 'FHRS',\n",
      "  '_id': ObjectId('650750c4ea27f5347d9fbef3'),\n",
      "  'geocode': {'latitude': '51.185258', 'longitude': '1.402478'},\n",
      "  'links': [{'href': 'https://api.ratings.food.gov.uk/establishments/760657',\n",
      "             'rel': 'self'}],\n",
      "  'meta': {'dataSource': None,\n",
      "           'extractDate': '0001-01-01T00:00:00',\n",
      "           'itemCount': 0,\n",
      "           'pageNumber': 0,\n",
      "           'pageSize': 0,\n",
      "           'returncode': None,\n",
      "           'totalCount': 0,\n",
      "           'totalPages': 0},\n",
      "  'scores': {'ConfidenceInManagement': 5, 'Hygiene': 10, 'Structural': 5}},\n",
      " {'AddressLine1': 'West Cottage',\n",
      "  'AddressLine2': 'South Foreland Lighthouse',\n",
      "  'AddressLine3': 'The Front',\n",
      "  'AddressLine4': 'St Margarets Bay',\n",
      "  'BusinessName': 'Mrs Knotts Tea Room',\n",
      "  'BusinessType': 'Restaurant/Cafe/Canteen',\n",
      "  'BusinessTypeID': 1,\n",
      "  'ChangesByServerID': 0,\n",
      "  'Distance': 4587.492467848017,\n",
      "  'FHRSID': 429991,\n",
      "  'LocalAuthorityBusinessID': 'PI/000055200',\n",
      "  'LocalAuthorityCode': '182',\n",
      "  'LocalAuthorityEmailAddress': 'publicprotection@dover.gov.uk',\n",
      "  'LocalAuthorityName': 'Dover',\n",
      "  'LocalAuthorityWebSite': 'http://www.dover.gov.uk/',\n",
      "  'NewRatingPending': False,\n",
      "  'Phone': '',\n",
      "  'PostCode': 'CT15 6HP',\n",
      "  'RatingDate': '2019-05-02T00:00:00',\n",
      "  'RatingKey': 'fhrs_5_en-gb',\n",
      "  'RatingValue': '5',\n",
      "  'RightToReply': '',\n",
      "  'SchemeType': 'FHRS',\n",
      "  '_id': ObjectId('650750c4ea27f5347d9fbef4'),\n",
      "  'geocode': {'latitude': '51.14061', 'longitude': '1.371894'},\n",
      "  'links': [{'href': 'https://api.ratings.food.gov.uk/establishments/429991',\n",
      "             'rel': 'self'}],\n",
      "  'meta': {'dataSource': None,\n",
      "           'extractDate': '0001-01-01T00:00:00',\n",
      "           'itemCount': 0,\n",
      "           'pageNumber': 0,\n",
      "           'pageSize': 0,\n",
      "           'returncode': None,\n",
      "           'totalCount': 0,\n",
      "           'totalPages': 0},\n",
      "  'scores': {'ConfidenceInManagement': 0, 'Hygiene': 0, 'Structural': 0}}]\n"
     ]
    }
   ],
   "source": [
    "# review a document in the establishments collection\n",
    "query = {}\n",
    "\n",
    "limit = 5\n",
    "pprint(list(establishments.find(query).limit(limit)))"
   ]
  },
  {
   "cell_type": "code",
   "execution_count": 6,
   "id": "11c9f11b",
   "metadata": {},
   "outputs": [],
   "source": [
    "# assign the collection to a variable\n",
    "establishments = db['establishments']"
   ]
  },
  {
   "cell_type": "markdown",
   "id": "d5671434",
   "metadata": {},
   "source": [
    "## Part 2: Update the Database"
   ]
  },
  {
   "cell_type": "markdown",
   "id": "314bd884",
   "metadata": {},
   "source": [
    "1. An exciting new halal restaurant just opened in Greenwich, but hasn't been rated yet. The magazine has asked you to include it in your analysis. Add the following restaurant \"Penang Flavours\" to the database."
   ]
  },
  {
   "cell_type": "code",
   "execution_count": null,
   "id": "c2da7648",
   "metadata": {},
   "outputs": [],
   "source": [
    "# Create a dictionary for the new restaurant data\n"
   ]
  },
  {
   "cell_type": "code",
   "execution_count": null,
   "id": "a6e5cece",
   "metadata": {},
   "outputs": [],
   "source": [
    "# Insert the new restaurant into the collection\n"
   ]
  },
  {
   "cell_type": "code",
   "execution_count": null,
   "id": "63bb10f9",
   "metadata": {},
   "outputs": [],
   "source": [
    "# Check that the new restaurant was inserted\n"
   ]
  },
  {
   "cell_type": "markdown",
   "id": "0ef4395a",
   "metadata": {},
   "source": [
    "2. Find the BusinessTypeID for \"Restaurant/Cafe/Canteen\" and return only the `BusinessTypeID` and `BusinessType` fields."
   ]
  },
  {
   "cell_type": "code",
   "execution_count": null,
   "id": "93c63829",
   "metadata": {},
   "outputs": [],
   "source": [
    "# Find the BusinessTypeID for \"Restaurant/Cafe/Canteen\" and return only the BusinessTypeID and BusinessType fields\n"
   ]
  },
  {
   "cell_type": "markdown",
   "id": "4e570caf",
   "metadata": {},
   "source": [
    "3. Update the new restaurant with the `BusinessTypeID` you found."
   ]
  },
  {
   "cell_type": "code",
   "execution_count": null,
   "id": "7f599f3d",
   "metadata": {},
   "outputs": [],
   "source": [
    "# Update the new restaurant with the correct BusinessTypeID\n"
   ]
  },
  {
   "cell_type": "code",
   "execution_count": null,
   "id": "a6ad16f7",
   "metadata": {},
   "outputs": [],
   "source": [
    "# Confirm that the new restaurant was updated\n"
   ]
  },
  {
   "cell_type": "markdown",
   "id": "67281254",
   "metadata": {},
   "source": [
    "4. The magazine is not interested in any establishments in Dover, so check how many documents contain the Dover Local Authority. Then, remove any establishments within the Dover Local Authority from the database, and check the number of documents to ensure they were deleted."
   ]
  },
  {
   "cell_type": "code",
   "execution_count": null,
   "id": "768474a6",
   "metadata": {},
   "outputs": [],
   "source": [
    "# Find how many documents have LocalAuthorityName as \"Dover\"\n"
   ]
  },
  {
   "cell_type": "code",
   "execution_count": null,
   "id": "a11d5f1b",
   "metadata": {},
   "outputs": [],
   "source": [
    "# Delete all documents where LocalAuthorityName is \"Dover\"\n"
   ]
  },
  {
   "cell_type": "code",
   "execution_count": null,
   "id": "2a51aba0",
   "metadata": {},
   "outputs": [],
   "source": [
    "# Check if any remaining documents include Dover\n"
   ]
  },
  {
   "cell_type": "code",
   "execution_count": null,
   "id": "8c356f7b",
   "metadata": {},
   "outputs": [],
   "source": [
    "# Check that other documents remain with 'find_one'\n"
   ]
  },
  {
   "attachments": {},
   "cell_type": "markdown",
   "id": "e9f1662d",
   "metadata": {},
   "source": [
    "5. Some of the number values are stored as strings, when they should be stored as numbers."
   ]
  },
  {
   "attachments": {},
   "cell_type": "markdown",
   "id": "c46df2df",
   "metadata": {},
   "source": [
    "Use `update_many` to convert `latitude` and `longitude` to decimal numbers."
   ]
  },
  {
   "cell_type": "code",
   "execution_count": null,
   "id": "fd4112ce",
   "metadata": {},
   "outputs": [],
   "source": [
    "# Change the data type from String to Decimal for longitude and latitude\n"
   ]
  },
  {
   "attachments": {},
   "cell_type": "markdown",
   "id": "142e319c",
   "metadata": {},
   "source": [
    "Use `update_many` to convert `RatingValue` to integer numbers."
   ]
  },
  {
   "cell_type": "code",
   "execution_count": null,
   "id": "04430a5b",
   "metadata": {},
   "outputs": [],
   "source": [
    "# Set non 1-5 Rating Values to Null\n",
    "non_ratings = [\"AwaitingInspection\", \"Awaiting Inspection\", \"AwaitingPublication\", \"Pass\", \"Exempt\"]\n",
    "establishments.update_many({\"RatingValue\": {\"$in\": non_ratings}}, [ {'$set':{ \"RatingValue\" : None}} ])"
   ]
  },
  {
   "cell_type": "code",
   "execution_count": null,
   "id": "92524ccc",
   "metadata": {},
   "outputs": [],
   "source": [
    "# Change the data type from String to Integer for RatingValue\n"
   ]
  },
  {
   "cell_type": "code",
   "execution_count": null,
   "id": "0deacaf9",
   "metadata": {},
   "outputs": [],
   "source": [
    "# Check that the coordinates and rating value are now numbers\n"
   ]
  }
 ],
 "metadata": {
  "kernelspec": {
   "display_name": "Python 3 (ipykernel)",
   "language": "python",
   "name": "python3"
  },
  "language_info": {
   "codemirror_mode": {
    "name": "ipython",
    "version": 3
   },
   "file_extension": ".py",
   "mimetype": "text/x-python",
   "name": "python",
   "nbconvert_exporter": "python",
   "pygments_lexer": "ipython3",
   "version": "3.10.12"
  }
 },
 "nbformat": 4,
 "nbformat_minor": 5
}
